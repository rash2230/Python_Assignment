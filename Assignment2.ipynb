{
  "nbformat": 4,
  "nbformat_minor": 0,
  "metadata": {
    "colab": {
      "provenance": [],
      "authorship_tag": "ABX9TyNd+2HSOCUwvj6Ec2Nf5t8W",
      "include_colab_link": true
    },
    "kernelspec": {
      "name": "python3",
      "display_name": "Python 3"
    },
    "language_info": {
      "name": "python"
    }
  },
  "cells": [
    {
      "cell_type": "markdown",
      "metadata": {
        "id": "view-in-github",
        "colab_type": "text"
      },
      "source": [
        "<a href=\"https://colab.research.google.com/github/rash2230/Python_Assignment/blob/main/Assignment2.ipynb\" target=\"_parent\"><img src=\"https://colab.research.google.com/assets/colab-badge.svg\" alt=\"Open In Colab\"/></a>"
      ]
    },
    {
      "cell_type": "code",
      "execution_count": null,
      "metadata": {
        "id": "fO0rcf0xkVXq",
        "colab": {
          "base_uri": "https://localhost:8080/"
        },
        "outputId": "6a861956-32c9-4ce4-cbaf-585afd2890e6"
      },
      "outputs": [
        {
          "output_type": "stream",
          "name": "stdout",
          "text": [
            "Enter the value of number: 10\n",
            "The entered number is 10.\n"
          ]
        }
      ],
      "source": [
        "## 1. Write a program to check if the given input is 10 or not. If it is 10 print the number else print input is not 10\n",
        "num = int(input('Enter the value of number: '))\n",
        "if num == 10:\n",
        "  print('The entered number is 10.')\n",
        "else:\n",
        "  print('The enterned number is not 10')"
      ]
    },
    {
      "cell_type": "code",
      "source": [
        "## 2. WAP to check whether the user-given input integer is a positive or negative Number. \n",
        "## If it is positive print the square of the number else prints the cube of the user-given input.\n",
        "num = int(input('Enter the number: '))\n",
        "if num >=0:\n",
        "  num1 = num ** 2\n",
        "  print(num1)\n",
        "else:\n",
        "  num2 = num **3\n",
        "  print(num2)"
      ],
      "metadata": {
        "colab": {
          "base_uri": "https://localhost:8080/"
        },
        "id": "wZmOj9YMlSf2",
        "outputId": "36d783a1-4d1b-40a9-cfbb-7b1c5d0bed8a"
      },
      "execution_count": null,
      "outputs": [
        {
          "output_type": "stream",
          "name": "stdout",
          "text": [
            "Enter the number: 5\n",
            "25\n"
          ]
        }
      ]
    },
    {
      "cell_type": "code",
      "source": [
        "# 3.WAP to display \"Hello\" if a number entered by the user is a multiple of five,  otherwise print \"Bye\".\n",
        "user_num = int(input('Enter the number: '))\n",
        "# finding the remainder \n",
        "num = user_num % 5\n",
        "if num == 0:\n",
        "  print(\"Hello\")\n",
        "else:\n",
        "  print(\"Bye\")"
      ],
      "metadata": {
        "id": "oHqur07B1y0a",
        "colab": {
          "base_uri": "https://localhost:8080/"
        },
        "outputId": "eb3a09c0-aff7-46fb-e2b7-bea0091f321b"
      },
      "execution_count": null,
      "outputs": [
        {
          "output_type": "stream",
          "name": "stdout",
          "text": [
            "Enter the number: 10\n",
            "Hello\n"
          ]
        }
      ]
    },
    {
      "cell_type": "code",
      "source": [
        "# 4. WAP to check whether the last digit of a number ( entered by the user ) is divisible by 3 or not.\n",
        "user_num = int(input('Enter the number: '))\n",
        "if user_num % 3 == 0:\n",
        "  print(\"The number is divisible by 3\")\n",
        "else:\n",
        "  print(\"The number isn't divisible by 3\")"
      ],
      "metadata": {
        "colab": {
          "base_uri": "https://localhost:8080/"
        },
        "id": "oaPSg9uKWybc",
        "outputId": "280dc392-e141-42a2-fd59-9c7cecc679d7"
      },
      "execution_count": null,
      "outputs": [
        {
          "output_type": "stream",
          "name": "stdout",
          "text": [
            "Enter the number: 798988925563228599999\n",
            "The number is divisible by 3\n"
          ]
        }
      ]
    },
    {
      "cell_type": "code",
      "source": [
        "# 5. The volume of a sphere with radius r is 4/3 π r3. What is the volume of a sphere with a radius of 5?\n",
        "r = float(input('Enter the number: '))\n",
        "pi = 3.14\n",
        "vol_sphere = (4 / 3) * pi * r **3\n",
        "print('The volume of sphere is {}'.format(vol_sphere))"
      ],
      "metadata": {
        "colab": {
          "base_uri": "https://localhost:8080/"
        },
        "id": "z3oaU3X-YeRI",
        "outputId": "5be92b71-5143-4214-c94a-5b0dd2b62f12"
      },
      "execution_count": null,
      "outputs": [
        {
          "output_type": "stream",
          "name": "stdout",
          "text": [
            "Enter the number: 2.5\n",
            "The volume of sphere is 65.41666666666667\n"
          ]
        }
      ]
    },
    {
      "cell_type": "code",
      "source": [
        "# 6. WAP to Find the Largest Among Three Numbers.\n",
        "num1 = int(input('Enter the number: '))\n",
        "num2 = int(input('Enter the number: '))\n",
        "num3 = int(input('Enter the number: '))\n",
        "if (num1 > num2) and (num1 > num3):\n",
        "  largest = num1\n",
        "elif (num2 > num1) and (num2 > num3):\n",
        "  largest =num2\n",
        "else:\n",
        "  largest = num3\n",
        "print('The largest number is {}'.format(largest))\n"
      ],
      "metadata": {
        "colab": {
          "base_uri": "https://localhost:8080/"
        },
        "id": "4K2qAcgbZh_2",
        "outputId": "4e362641-efd4-4be0-885a-e640cc7bb973"
      },
      "execution_count": null,
      "outputs": [
        {
          "output_type": "stream",
          "name": "stdout",
          "text": [
            "Enter the number: 2\n",
            "Enter the number: 3\n",
            "Enter the number: 4\n",
            "The largest number is 4\n"
          ]
        }
      ]
    },
    {
      "cell_type": "code",
      "source": [
        "#7. \n",
        "marks = float(input(\"enter your marks: \"))\n",
        "if(marks <= 25 ):\n",
        "  print(\"Your grade is : F\")\n",
        "elif (25<marks<= 45):\n",
        "  print(\"Your grade is : E\")\n",
        "elif (45<marks<=50):\n",
        "  print(\"Your grade is : D\")\n",
        "elif (50<marks<=60):\n",
        "  print(\"Your grade is : C\")\n",
        "elif (60<marks<=80):\n",
        "  print(\"Your grade is : B\")\n",
        "else :\n",
        "  print (\"Your grade is : A\")"
      ],
      "metadata": {
        "colab": {
          "base_uri": "https://localhost:8080/"
        },
        "id": "h4amUUHpjMiE",
        "outputId": "0e04b7eb-2939-4bf3-876d-3974e5a21a8d"
      },
      "execution_count": null,
      "outputs": [
        {
          "output_type": "stream",
          "name": "stdout",
          "text": [
            "enter your marks: 52.8\n",
            "Your grade is : C\n"
          ]
        }
      ]
    },
    {
      "cell_type": "code",
      "source": [
        "# 8. \n",
        "salary = int(input (\"enter the salary: \"))\n",
        "years_of_service = int(input (\"enter the years of service : \"))\n",
        "if ( years_of_service > 5):\n",
        "  net_bonus= (5/100) * salary #bonus = 5% of Salary\n",
        "  print (net_bonus)\n",
        "else:\n",
        "  print(\"work further more years for bonus\")\n"
      ],
      "metadata": {
        "colab": {
          "base_uri": "https://localhost:8080/"
        },
        "id": "xh1_W4focy1e",
        "outputId": "e60fbe95-f82b-4fcf-9bc5-2af0c23988e2"
      },
      "execution_count": null,
      "outputs": [
        {
          "output_type": "stream",
          "name": "stdout",
          "text": [
            "enter the salary: 100\n",
            "enter the years of service : 6\n",
            "5.0\n"
          ]
        }
      ]
    },
    {
      "cell_type": "code",
      "source": [
        "\n"
      ],
      "metadata": {
        "id": "sTkxhk0yiUDD"
      },
      "execution_count": null,
      "outputs": []
    }
  ]
}